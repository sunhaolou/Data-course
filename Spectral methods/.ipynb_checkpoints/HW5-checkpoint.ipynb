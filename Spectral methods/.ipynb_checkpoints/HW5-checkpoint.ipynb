{
 "cells": [
  {
   "cell_type": "code",
   "execution_count": 1,
   "metadata": {},
   "outputs": [],
   "source": [
    "import numpy as np\n",
    "from scipy.fft import fft, ifft, fft2, ifft2\n",
    "from scipy import integrate\n",
    "from scipy.sparse import spdiags\n",
    "from scipy.integrate import solve_ivp\n",
    "from scipy.sparse.linalg import spsolve\n",
    "import numpy.matlib\n",
    "import time\n",
    "import matplotlib.pyplot as plt\n",
    "import matplotlib.animation as animation"
   ]
  },
  {
   "cell_type": "code",
   "execution_count": 2,
   "metadata": {},
   "outputs": [],
   "source": [
    "def cheb(N):\n",
    "    # N is the number of points in the interior.\n",
    "    if N==0:\n",
    "        D = 0\n",
    "        x = 1\n",
    "        return D, x\n",
    "    vals = np.linspace(0, N, N+1)\n",
    "    x = np.cos(np.pi*vals/N)\n",
    "    x = x.reshape(-1, 1)\n",
    "    c = np.ones(N-1)\n",
    "    c = np.pad(c, (1,), constant_values = 2)\n",
    "    c *= (-1)**vals\n",
    "    c = c.reshape(-1, 1)\n",
    "    X = np.tile(x, (1, N+1))\n",
    "    dX = X-X.T                  \n",
    "    D  = (c*(1/c.T))/(dX+(np.eye(N+1)))       #off-diagonal entries\n",
    "    D  = D - np.diag(sum(D.T))                #diagonal entries\n",
    "\n",
    "    return D, x"
   ]
  },
  {
   "cell_type": "code",
   "execution_count": 3,
   "metadata": {},
   "outputs": [],
   "source": [
    "L = 20\n",
    "n = 64\n",
    "tspan = np.arange(0,25.5,0.5)\n",
    "x2 = np.linspace(-L/2,L/2,n+1) \n",
    "x=x2[0:-1] \n",
    "y=x.copy()\n",
    "r1=np.arange(0,n/2,1)\n",
    "r2=np.arange(-n/2,0,1)\n",
    "kx = (2*np.pi/L)*np.concatenate((r1,r2))\n",
    "ky=kx.copy()"
   ]
  },
  {
   "cell_type": "code",
   "execution_count": 4,
   "metadata": {},
   "outputs": [],
   "source": [
    "[X, Y] = np.meshgrid(x,y)\n",
    "A1 = X\n",
    "[KX,KY]=np.meshgrid(kx,ky)\n",
    "m = 3\n",
    "alpha = 0\n",
    "K = KX**2+KY**2\n",
    "Kvec = K.reshape(n**2)\n",
    "u = (np.tanh(np.sqrt(X**2+Y**2))-alpha)*np.cos(m*np.angle(X+1j*Y) - np.sqrt(X**2+Y**2))\n",
    "v = (np.tanh(np.sqrt(X**2+Y**2))-alpha)*np.sin(m*np.angle(X+1j*Y) - np.sqrt(X**2+Y**2))\n",
    "A2 = u"
   ]
  },
  {
   "cell_type": "code",
   "execution_count": 5,
   "metadata": {},
   "outputs": [],
   "source": [
    "uhat_zero = fft2(u)\n",
    "vhat_zero = fft2(v)\n",
    "A3 = np.real(uhat_zero)"
   ]
  },
  {
   "cell_type": "code",
   "execution_count": 6,
   "metadata": {},
   "outputs": [],
   "source": [
    "u0hatvec = uhat_zero.flatten('F')\n",
    "v0hatvec = vhat_zero.flatten('F')\n",
    "init = np.stack((u0hatvec, v0hatvec), axis = 0).reshape(2*n**2)\n",
    "A4 = np.reshape(np.imag(init), (2*n**2, 1))"
   ]
  },
  {
   "cell_type": "code",
   "execution_count": 7,
   "metadata": {},
   "outputs": [],
   "source": [
    "def rea_diff(t,stackvec,Kvec,n):\n",
    "    U_vec = stackvec[0:n**2]\n",
    "    U = np.reshape(U_vec, (n,n), order = 'F')\n",
    "    V_vec = stackvec[n**2:]\n",
    "    V = np.reshape(V_vec, (n,n), order = 'F')\n",
    "    U = np.real(ifft2(U))\n",
    "    V = np.real(ifft2(V))\n",
    "    A_square = np.square(U) + np.square(V)\n",
    "    l = 1 - A_square\n",
    "    w = -A_square\n",
    "    u_t = fft2(l*U - w*V).reshape(n**2) - 0.1*Kvec*U_vec\n",
    "    v_t = fft2(w*U - l*V).reshape(n**2) - 0.1*Kvec*V_vec\n",
    "    rhs = np.stack((u_t, v_t), axis = 0).reshape(2*n**2)\n",
    "    return rhs"
   ]
  },
  {
   "cell_type": "code",
   "execution_count": 8,
   "metadata": {},
   "outputs": [],
   "source": [
    "sol = integrate.solve_ivp(lambda t,stackvec: rea_diff(t,stackvec,Kvec,n), [0, 25], init, t_eval = tspan)"
   ]
  },
  {
   "cell_type": "code",
   "execution_count": 9,
   "metadata": {},
   "outputs": [],
   "source": [
    "result = sol.y"
   ]
  },
  {
   "cell_type": "code",
   "execution_count": 10,
   "metadata": {},
   "outputs": [],
   "source": [
    "A5 = np.real(result)\n",
    "A6 = np.imag(result)"
   ]
  },
  {
   "cell_type": "code",
   "execution_count": 11,
   "metadata": {},
   "outputs": [],
   "source": [
    "sol_2 = result[:,5]\n",
    "U_sol_2 = sol_2[0:n**2]\n",
    "A7 = np.reshape(np.real(U_sol_2), (n**2, 1))"
   ]
  },
  {
   "cell_type": "code",
   "execution_count": 12,
   "metadata": {},
   "outputs": [],
   "source": [
    "A8 = np.reshape(np.real(U_sol_2), (n,n), order = 'F')"
   ]
  },
  {
   "cell_type": "code",
   "execution_count": 13,
   "metadata": {},
   "outputs": [],
   "source": [
    "U_sol_2 = np.reshape(U_sol_2, (n,n), order = 'F')\n",
    "A9 = ifft2(U_sol_2)"
   ]
  },
  {
   "cell_type": "code",
   "execution_count": 14,
   "metadata": {},
   "outputs": [],
   "source": [
    "n = 30\n",
    "m = 2\n",
    "alpha = 1"
   ]
  },
  {
   "cell_type": "code",
   "execution_count": 15,
   "metadata": {},
   "outputs": [],
   "source": [
    "[D, x] = cheb(n)\n",
    "x = x.reshape(n+1)\n",
    "# Derivative operator squared is second derivative\n",
    "D2 = D@D\n",
    "x = x*L/2\n",
    "D2 = 4/(L**2)*D2\n",
    "# Apply BCs\n",
    "# Remove the first and last row and column\n",
    "D2 = D2[1:-1, 1:-1]\n",
    "I = np.eye(len(D2))\n",
    "Lap = np.kron(D2,I)+np.kron(I,D2)\n",
    "A10 = Lap"
   ]
  },
  {
   "cell_type": "code",
   "execution_count": 16,
   "metadata": {},
   "outputs": [],
   "source": [
    "x2 = x[1:-1]\n",
    "y2 = x2.copy()\n",
    "[X,Y]=np.meshgrid(x2,y2)\n",
    "A11 = Y"
   ]
  },
  {
   "cell_type": "code",
   "execution_count": 17,
   "metadata": {},
   "outputs": [],
   "source": [
    "u = (np.tanh(np.sqrt(X**2+Y**2))-alpha)*np.cos(m*np.angle(X+1j*Y) - np.sqrt(X**2+Y**2))\n",
    "v = (np.tanh(np.sqrt(X**2+Y**2))-alpha)*np.sin(m*np.angle(X+1j*Y) - np.sqrt(X**2+Y**2))\n",
    "A12 = v"
   ]
  },
  {
   "cell_type": "code",
   "execution_count": 18,
   "metadata": {},
   "outputs": [],
   "source": [
    "u0 = u.flatten('F')\n",
    "v0 = v.flatten('F')\n",
    "init = np.stack((u0, v0), axis = 0).reshape(2*(n-1)**2)\n",
    "A13 = np.reshape(init, (2*(n-1)**2, 1))"
   ]
  },
  {
   "cell_type": "code",
   "execution_count": 19,
   "metadata": {},
   "outputs": [],
   "source": [
    "def rea_diff_2(t,stackvec,n,Lap):\n",
    "    stackvec = np.copy(init.reshape(-1, order='F'))\n",
    "    n = n - 1\n",
    "    U = stackvec[0:n**2]\n",
    "    V = stackvec[n**2:]\n",
    "    A_square = U**2 + V**2\n",
    "    l = 1 - A_square\n",
    "    w = -A_square\n",
    "    u_t = (l*U - w*V).reshape(n**2) - 0.1*Lap@U\n",
    "    v_t = (w*U - l*V).reshape(n**2) - 0.1*Lap@V\n",
    "    rhs = np.stack((u_t, v_t), axis = 0).reshape(2*n**2)\n",
    "    return rhs"
   ]
  },
  {
   "cell_type": "code",
   "execution_count": 22,
   "metadata": {},
   "outputs": [],
   "source": [
    "# sol = integrate.solve_ivp(lambda t,stackvec: rea_diff_2(t,stackvec,n,Lap), [0, 25], init.reshape(-1, order='F'), t_eval = tspan)"
   ]
  },
  {
   "cell_type": "code",
   "execution_count": 23,
   "metadata": {},
   "outputs": [],
   "source": [
    "# result = sol.y\n",
    "# result.shape"
   ]
  },
  {
   "cell_type": "code",
   "execution_count": null,
   "metadata": {},
   "outputs": [],
   "source": []
  }
 ],
 "metadata": {
  "kernelspec": {
   "display_name": "Python 3",
   "language": "python",
   "name": "python3"
  },
  "language_info": {
   "codemirror_mode": {
    "name": "ipython",
    "version": 3
   },
   "file_extension": ".py",
   "mimetype": "text/x-python",
   "name": "python",
   "nbconvert_exporter": "python",
   "pygments_lexer": "ipython3",
   "version": "3.8.5"
  }
 },
 "nbformat": 4,
 "nbformat_minor": 4
}
