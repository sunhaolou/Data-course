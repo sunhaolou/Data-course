{
 "cells": [
  {
   "cell_type": "code",
   "execution_count": 1,
   "metadata": {},
   "outputs": [],
   "source": [
    "import numpy as np\n",
    "import scipy.sparse as sp\n",
    "from scipy.sparse import csr_matrix, triu, spdiags\n",
    "from scipy.integrate import solve_ivp\n",
    "from scipy.sparse.linalg import spsolve, splu\n",
    "import numpy.matlib\n",
    "import matplotlib.pylab as plt\n",
    "import time"
   ]
  },
  {
   "cell_type": "code",
   "execution_count": 2,
   "metadata": {},
   "outputs": [],
   "source": [
    "f = lambda x: np.exp(-(x-5)**2) #Define the Initial Condition\n",
    "L = 10 #Define the length, L\n",
    "t = np.arange(0, 10+0.5, 0.5)\n",
    "x = np.arange(-L,L,0.1) #Our x domain.\n",
    "N = len(x)"
   ]
  },
  {
   "cell_type": "code",
   "execution_count": 3,
   "metadata": {},
   "outputs": [],
   "source": [
    "e = np.ones((N))\n",
    "Bin = np.array([e, -e, e, -e])\n",
    "d = np.array([-N+1, -1, 1, N-1])\n",
    "A = spdiags(Bin, d, N, N, format='csc')/0.2\n",
    "y0 = f(x) # Initial condition evaluated on our domain x. "
   ]
  },
  {
   "cell_type": "code",
   "execution_count": 4,
   "metadata": {},
   "outputs": [
    {
     "name": "stdout",
     "output_type": "stream",
     "text": [
      "[[ 0.  5.  0. ...  0.  0. -5.]\n",
      " [-5.  0.  5. ...  0.  0.  0.]\n",
      " [ 0. -5.  0. ...  0.  0.  0.]\n",
      " ...\n",
      " [ 0.  0.  0. ...  0.  5.  0.]\n",
      " [ 0.  0.  0. ... -5.  0.  5.]\n",
      " [ 5.  0.  0. ...  0. -5.  0.]]\n"
     ]
    }
   ],
   "source": [
    "print(A.toarray())"
   ]
  },
  {
   "cell_type": "code",
   "execution_count": 5,
   "metadata": {},
   "outputs": [
    {
     "name": "stdout",
     "output_type": "stream",
     "text": [
      "0.017480134963989258\n"
     ]
    }
   ],
   "source": [
    "def advectionPDE(t, u, A):\n",
    "    A = 0.5*A\n",
    "    u_t = A@u\n",
    "    return u_t\n",
    "\n",
    "tic = time.time()\n",
    "sol = solve_ivp(lambda t,u: advectionPDE(t, u, A), t_span=[t[0], t[-1]], y0=y0, method='RK45', t_eval=t)\n",
    "toc = time.time()\n",
    "print(toc-tic)\n",
    "sol = sol.y"
   ]
  },
  {
   "cell_type": "code",
   "execution_count": 6,
   "metadata": {},
   "outputs": [],
   "source": [
    "A1 = np.copy(A.toarray())\n",
    "A2 = sol"
   ]
  },
  {
   "cell_type": "code",
   "execution_count": 7,
   "metadata": {},
   "outputs": [
    {
     "name": "stderr",
     "output_type": "stream",
     "text": [
      "/Users/sunhaolou/opt/anaconda3/lib/python3.8/site-packages/scipy/sparse/_index.py:124: SparseEfficiencyWarning: Changing the sparsity structure of a csr_matrix is expensive. lil_matrix is more efficient.\n",
      "  self._set_arrayXarray(i, j, x)\n"
     ]
    }
   ],
   "source": [
    "HA = np.copy(A1)\n",
    "HA = sp.csr_matrix(HA)\n",
    "HA[0:141, :] = 0"
   ]
  },
  {
   "cell_type": "code",
   "execution_count": 8,
   "metadata": {},
   "outputs": [
    {
     "name": "stdout",
     "output_type": "stream",
     "text": [
      "0.4352550506591797\n"
     ]
    }
   ],
   "source": [
    "def advectionPDE2(t, u, A, HA):\n",
    "    c = 1+2*np.sin(5*t)\n",
    "    A = np.dot(c, A) - HA\n",
    "    u_t = A@u\n",
    "    return u_t\n",
    "\n",
    "tic = time.time()\n",
    "sol = solve_ivp(lambda t,u: advectionPDE2(t, u, A, HA), t_span=[t[0], t[-1]], y0=y0, method='RK45', t_eval=t)\n",
    "toc = time.time()\n",
    "print(toc-tic)\n",
    "sol = sol.y"
   ]
  },
  {
   "cell_type": "code",
   "execution_count": 9,
   "metadata": {},
   "outputs": [],
   "source": [
    "A3 = sol"
   ]
  },
  {
   "cell_type": "code",
   "execution_count": 10,
   "metadata": {},
   "outputs": [],
   "source": [
    "m = 64 # N value in x and y directions\n",
    "n = m*m # total size of matrix\n",
    "h = 20/64\n",
    "e1 = np.ones(n) # vector of ones\n",
    "d = np.ones(n)\n",
    "d[0] = -0.5\n",
    "Low1 = np.tile(np.concatenate((np.ones(m-1), [0])), (m,)) # Lower diagonal 1\n",
    "Low2 = np.tile(np.concatenate(([1], np.zeros(m-1))), (m,)) #Lower diagonal 2\n",
    "                                    # Low2 is NOT on the second lower diagonal,\n",
    "                                    # it is just the next lower diagonal we see\n",
    "                                    # in the matrix.\n",
    "\n",
    "Up1 = np.roll(Low1, 1) # Shift the array for spdiags\n",
    "Up2 = np.roll(Low2, m-1) # Shift the other array\n",
    "\n",
    "A = sp.spdiags([e1, e1, Low2, Low1, -4*d, Up1, Up2, e1, e1],\n",
    "                         [-(n-m), -m, -m+1, -1, 0, 1, m-1, m, (n-m)], n, n, format='csc')\n",
    "A = A/h**2"
   ]
  },
  {
   "cell_type": "code",
   "execution_count": 11,
   "metadata": {},
   "outputs": [],
   "source": [
    "# print(A.toarray()[0:9,0:9])"
   ]
  },
  {
   "cell_type": "code",
   "execution_count": 12,
   "metadata": {},
   "outputs": [],
   "source": [
    "B = sp.spdiags([e1, -1*e1, e1, -1*e1],\n",
    "                         [-(n-m), -m, m, (n-m)], n, n, format='csc')\n",
    "B = B/(2*h)"
   ]
  },
  {
   "cell_type": "code",
   "execution_count": 13,
   "metadata": {},
   "outputs": [],
   "source": [
    "# print(B.toarray())"
   ]
  },
  {
   "cell_type": "code",
   "execution_count": 14,
   "metadata": {},
   "outputs": [],
   "source": [
    "C = sp.spdiags([Low2, -1*Low1, Up1, -1*Up2,],\n",
    "                         [-m+1, -1, 1, m-1], n, n, format='csc')\n",
    "C = C/(2*h)"
   ]
  },
  {
   "cell_type": "code",
   "execution_count": 15,
   "metadata": {},
   "outputs": [],
   "source": [
    "# print(C.toarray())"
   ]
  },
  {
   "cell_type": "code",
   "execution_count": 16,
   "metadata": {},
   "outputs": [],
   "source": [
    "A4 = np.copy(A.toarray())\n",
    "A5 = np.copy(B.toarray())\n",
    "A6 = np.copy(C.toarray())"
   ]
  },
  {
   "cell_type": "code",
   "execution_count": 17,
   "metadata": {},
   "outputs": [],
   "source": [
    "f = lambda x,y: np.exp(-2*x**2 - (y**2/20)) #Define the Initial Condition\n",
    "L = 10 #Define the length, L\n",
    "t = np.arange(0, 4+0.5, 0.5)\n",
    "x = np.arange(-L,L,h)\n",
    "y = np.arange(-L,L,h)\n",
    "PLU = splu(A)\n",
    "yv, xv = np.meshgrid(x, y)\n",
    "w0 = f(xv, yv)\n",
    "w0 = np.reshape(w0, (4096, ))"
   ]
  },
  {
   "cell_type": "code",
   "execution_count": 18,
   "metadata": {},
   "outputs": [],
   "source": [
    "def vor_stream_Gauss(t, w, A, B, C):\n",
    "    w = np.reshape(w, (4096, ))\n",
    "    psi = sp.linalg.spsolve(A, w)\n",
    "    w_t = 0.001*A@w - (B@psi)*(C@w) + (C@psi)*(B@w)\n",
    "    return w_t"
   ]
  },
  {
   "cell_type": "code",
   "execution_count": 19,
   "metadata": {},
   "outputs": [
    {
     "name": "stdout",
     "output_type": "stream",
     "text": [
      "0.7432770729064941\n"
     ]
    }
   ],
   "source": [
    "tic = time.time()\n",
    "sol = solve_ivp(lambda t,w: vor_stream_Gauss(t, w, A, B, C), t_span=[0, 4], y0=w0, method='RK45', t_eval=t)\n",
    "toc = time.time()\n",
    "print(toc-tic)\n",
    "sol = sol.y.T"
   ]
  },
  {
   "cell_type": "code",
   "execution_count": 20,
   "metadata": {},
   "outputs": [
    {
     "data": {
      "image/png": "[encoded data removed]",
      "text/plain": [
       "<Figure size 432x288 with 1 Axes>"
      ]
     },
     "metadata": {
      "needs_background": "light"
     },
     "output_type": "display_data"
    }
   ],
   "source": [
    "plt.contourf(xv, yv, np.reshape(sol[8, :], (64,64)))\n",
    "plt.show()"
   ]
  },
  {
   "cell_type": "code",
   "execution_count": 21,
   "metadata": {},
   "outputs": [
    {
     "data": {
      "text/plain": [
       "(9, 4096)"
      ]
     },
     "execution_count": 21,
     "metadata": {},
     "output_type": "execute_result"
    }
   ],
   "source": [
    "sol.shape"
   ]
  },
  {
   "cell_type": "code",
   "execution_count": 22,
   "metadata": {},
   "outputs": [],
   "source": [
    "A7 = sol"
   ]
  },
  {
   "cell_type": "code",
   "execution_count": 23,
   "metadata": {},
   "outputs": [],
   "source": [
    "def vor_stream_LU(t, w, A, B, C):\n",
    "    w = np.reshape(w, (4096, ))\n",
    "    psi = PLU.solve(w)\n",
    "    w_t = 0.001*A@w - (B@psi)*(C@w) + (C@psi)*(B@w)\n",
    "    return w_t"
   ]
  },
  {
   "cell_type": "code",
   "execution_count": 24,
   "metadata": {},
   "outputs": [
    {
     "name": "stdout",
     "output_type": "stream",
     "text": [
      "0.058245182037353516\n"
     ]
    }
   ],
   "source": [
    "tic = time.time()\n",
    "sol = solve_ivp(lambda t,w: vor_stream_LU(t, w, A, B, C), t_span=[0, 4], y0=w0, method='RK45', t_eval=t)\n",
    "toc = time.time()\n",
    "print(toc-tic)\n",
    "sol = sol.y.T"
   ]
  },
  {
   "cell_type": "code",
   "execution_count": 25,
   "metadata": {},
   "outputs": [
    {
     "data": {
      "image/png": "[encoded data removed]",
      "text/plain": [
       "<Figure size 432x288 with 1 Axes>"
      ]
     },
     "metadata": {
      "needs_background": "light"
     },
     "output_type": "display_data"
    }
   ],
   "source": [
    "plt.contourf(xv, yv, np.reshape(sol[8, :], (64,64)))\n",
    "plt.show()"
   ]
  },
  {
   "cell_type": "code",
   "execution_count": 26,
   "metadata": {},
   "outputs": [
    {
     "data": {
      "text/plain": [
       "(9, 4096)"
      ]
     },
     "execution_count": 26,
     "metadata": {},
     "output_type": "execute_result"
    }
   ],
   "source": [
    "sol.shape"
   ]
  },
  {
   "cell_type": "code",
   "execution_count": 27,
   "metadata": {},
   "outputs": [],
   "source": [
    "A8 = sol"
   ]
  },
  {
   "cell_type": "code",
   "execution_count": 28,
   "metadata": {},
   "outputs": [],
   "source": [
    "A9 = np.reshape(sol, (9, 64, 64))"
   ]
  },
  {
   "cell_type": "code",
   "execution_count": null,
   "metadata": {},
   "outputs": [],
   "source": []
  }
 ],
 "metadata": {
  "kernelspec": {
   "display_name": "Python 3",
   "language": "python",
   "name": "python3"
  },
  "language_info": {
   "codemirror_mode": {
    "name": "ipython",
    "version": 3
   },
   "file_extension": ".py",
   "mimetype": "text/x-python",
   "name": "python",
   "nbconvert_exporter": "python",
   "pygments_lexer": "ipython3",
   "version": "3.8.5"
  }
 },
 "nbformat": 4,
 "nbformat_minor": 4
}
