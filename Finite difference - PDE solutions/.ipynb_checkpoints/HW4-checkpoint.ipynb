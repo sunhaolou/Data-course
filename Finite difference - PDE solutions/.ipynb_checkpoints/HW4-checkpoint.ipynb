{
 "cells": [
  {
   "cell_type": "code",
   "execution_count": 1,
   "metadata": {},
   "outputs": [],
   "source": [
    "import numpy as np\n",
    "from numpy.linalg import norm \n",
    "import matplotlib.pyplot as plt\n",
    "import scipy.sparse\n",
    "import scipy.linalg\n",
    "import scipy.sparse.linalg\n",
    "import scipy.optimize\n",
    "from mpl_toolkits.mplot3d import axes3d\n",
    "from matplotlib import cm\n",
    "import matplotlib.pyplot as plt\n",
    "import time"
   ]
  },
  {
   "cell_type": "code",
   "execution_count": 2,
   "metadata": {},
   "outputs": [],
   "source": [
    "Time = 2\n",
    "L = 10\n",
    "n = 128\n",
    "x2 = np.linspace(-L,L,n+1)\n",
    "x = x2[0:n] #periodicity\n",
    "dx = x[1] - x[0]\n",
    "\n",
    "#time\n",
    "t = np.linspace(0, 2, 501)\n",
    "dt = t[1] - t[0]\n",
    "time_steps = int(Time/dt)\n",
    "\n",
    "# CFL number\n",
    "CFL = 2*dt/(dx**2)\n",
    "\n",
    "L_star = CFL"
   ]
  },
  {
   "cell_type": "code",
   "execution_count": 3,
   "metadata": {},
   "outputs": [],
   "source": [
    "# von-Neumann analysis\n",
    "G = lambda z,l: 1+l*(8/3*np.cos(z)-1/6*np.cos(2*z)-5/2)"
   ]
  },
  {
   "cell_type": "code",
   "execution_count": 4,
   "metadata": {},
   "outputs": [],
   "source": [
    "A1 = np.abs(G(1, L_star))"
   ]
  },
  {
   "cell_type": "code",
   "execution_count": 5,
   "metadata": {},
   "outputs": [
    {
     "name": "stdout",
     "output_type": "stream",
     "text": [
      "1.0\n"
     ]
    }
   ],
   "source": [
    "G_one = lambda z: np.abs(G(z,L_star))\n",
    "opt = scipy.optimize.fminbound(lambda z:-G_one(z), -np.pi,np.pi)\n",
    "A2 = G_one(opt)\n",
    "print(A2)"
   ]
  },
  {
   "cell_type": "code",
   "execution_count": 6,
   "metadata": {},
   "outputs": [],
   "source": [
    "e1 = np.ones(n)\n",
    "A = scipy.sparse.spdiags([16*e1,-e1,-e1,16*e1,-30*e1,16*e1,-e1,-e1,16*e1],[-n+1,-n+2,-2,-1,0,1,2,n-2,n-1],n,n)\n",
    "A = A/12"
   ]
  },
  {
   "cell_type": "code",
   "execution_count": 7,
   "metadata": {},
   "outputs": [
    {
     "name": "stdout",
     "output_type": "stream",
     "text": [
      "[[-2.5         1.33333333 -0.08333333 ...  0.         -0.08333333\n",
      "   1.33333333]\n",
      " [ 1.33333333 -2.5         1.33333333 ...  0.          0.\n",
      "  -0.08333333]\n",
      " [-0.08333333  1.33333333 -2.5        ...  0.          0.\n",
      "   0.        ]\n",
      " ...\n",
      " [ 0.          0.          0.         ... -2.5         1.33333333\n",
      "  -0.08333333]\n",
      " [-0.08333333  0.          0.         ...  1.33333333 -2.5\n",
      "   1.33333333]\n",
      " [ 1.33333333 -0.08333333  0.         ... -0.08333333  1.33333333\n",
      "  -2.5       ]]\n"
     ]
    }
   ],
   "source": [
    "print(A.toarray())"
   ]
  },
  {
   "cell_type": "code",
   "execution_count": 8,
   "metadata": {},
   "outputs": [],
   "source": [
    "A3 = np.copy(A.toarray())"
   ]
  },
  {
   "cell_type": "code",
   "execution_count": 9,
   "metadata": {},
   "outputs": [
    {
     "data": {
      "text/plain": [
       "(128, 128)"
      ]
     },
     "execution_count": 9,
     "metadata": {},
     "output_type": "execute_result"
    }
   ],
   "source": [
    "A3.shape"
   ]
  },
  {
   "cell_type": "code",
   "execution_count": 10,
   "metadata": {},
   "outputs": [],
   "source": [
    "usol_fe =np.zeros((len(x),len(t)))\n",
    "u0 = 10*np.cos(2*np.pi*x/L)+30*np.cos(8*np.pi*x/L)\n",
    "usol_fe[:,0] = u0\n",
    "u1 = u0\n",
    "for j in range(time_steps):\n",
    "    u2 = u1 + L_star*A@u1\n",
    "    u1 = u2\n",
    "    usol_fe[:,j+1] = u2\n",
    "\n",
    "A5 = usol_fe[:, -1]"
   ]
  },
  {
   "cell_type": "code",
   "execution_count": 11,
   "metadata": {},
   "outputs": [
    {
     "data": {
      "text/plain": [
       "(128,)"
      ]
     },
     "execution_count": 11,
     "metadata": {},
     "output_type": "execute_result"
    }
   ],
   "source": [
    "A5.shape"
   ]
  },
  {
   "cell_type": "code",
   "execution_count": 12,
   "metadata": {},
   "outputs": [
    {
     "name": "stdout",
     "output_type": "stream",
     "text": [
      "1.0\n"
     ]
    }
   ],
   "source": [
    "G_2 = lambda z,l: (1+l*np.cos(z)-l)/(l+1-l*np.cos(z))\n",
    "G_two = lambda z: np.abs(G_2(z,L_star))\n",
    "opt = scipy.optimize.fminbound(lambda z:-G_two(z), -np.pi,np.pi)\n",
    "A6 = G_two(opt)\n",
    "print(A6)"
   ]
  },
  {
   "cell_type": "code",
   "execution_count": 13,
   "metadata": {},
   "outputs": [],
   "source": [
    "e1 = np.ones(n)\n",
    "B = 0.5*scipy.sparse.spdiags([-CFL*e1,-CFL*e1,2*CFL*e1,-CFL*e1,-CFL*e1],[-n+1,-1,0,1,n-1],n,n,format='csc')\n",
    "B = B + scipy.sparse.eye(n)\n",
    "C = 0.5*scipy.sparse.spdiags([CFL*e1,CFL*e1,-2*CFL*e1,CFL*e1,CFL*e1],[-n+1,-1,0,1,n-1],n,n,format='csc')\n",
    "C = C + scipy.sparse.eye(n)"
   ]
  },
  {
   "cell_type": "code",
   "execution_count": 14,
   "metadata": {},
   "outputs": [],
   "source": [
    "A7 = np.copy(B.toarray())\n",
    "A8 = np.copy(C.toarray())"
   ]
  },
  {
   "cell_type": "code",
   "execution_count": 15,
   "metadata": {},
   "outputs": [
    {
     "name": "stdout",
     "output_type": "stream",
     "text": [
      "0.016718149185180664\n"
     ]
    }
   ],
   "source": [
    "PLU = scipy.sparse.linalg.splu(B)\n",
    "usol_cn_1 =np.zeros((len(x),len(t)))\n",
    "u0 = 10*np.cos(2*np.pi*x/L)+30*np.cos(8*np.pi*x/L)\n",
    "usol_cn_1[:,0] = u0\n",
    "start = time.time()\n",
    "for j in range(time_steps):\n",
    "    u1 = PLU.solve(C@u0)\n",
    "    u0=u1\n",
    "    usol_cn_1[:,j+1] = u1\n",
    "\n",
    "end = time.time()\n",
    "print(end-start)\n",
    "A9 = usol_cn_1[:, -1]"
   ]
  },
  {
   "cell_type": "code",
   "execution_count": 16,
   "metadata": {},
   "outputs": [
    {
     "name": "stdout",
     "output_type": "stream",
     "text": [
      "0.1233978271484375\n"
     ]
    }
   ],
   "source": [
    "usol_cn_2 =np.zeros((len(x),len(t)))\n",
    "u0 = 10*np.cos(2*np.pi*x/L)+30*np.cos(8*np.pi*x/L)\n",
    "usol_cn_2[:,0] = u0\n",
    "start = time.time()\n",
    "for j in range(time_steps):\n",
    "    u1, exit_code = scipy.sparse.linalg.bicgstab(B, C@u0)\n",
    "    u0=u1\n",
    "    usol_cn_2[:,j+1] = u1\n",
    "\n",
    "end = time.time()\n",
    "print(end-start)\n",
    "A10 = usol_cn_2[:, -1]\n",
    "A10 = np.reshape(A10, (128, 1))"
   ]
  },
  {
   "cell_type": "code",
   "execution_count": 17,
   "metadata": {},
   "outputs": [],
   "source": [
    "exact_128 = np.genfromtxt('exact_128.csv', delimiter=',')\n",
    "exact_256 = np.genfromtxt('exact_256.csv', delimiter=',')\n",
    "exact_512 = np.genfromtxt('exact_512.csv', delimiter=',')\n",
    "exact_1024 = np.genfromtxt('exact_1024.csv', delimiter=',')"
   ]
  },
  {
   "cell_type": "code",
   "execution_count": 18,
   "metadata": {},
   "outputs": [
    {
     "name": "stdout",
     "output_type": "stream",
     "text": [
      "0.041134717291376646\n"
     ]
    }
   ],
   "source": [
    "A11 = norm(A5 - exact_128)\n",
    "print(A11)"
   ]
  },
  {
   "cell_type": "code",
   "execution_count": 19,
   "metadata": {},
   "outputs": [
    {
     "name": "stdout",
     "output_type": "stream",
     "text": [
      "0.020902811351726377\n"
     ]
    }
   ],
   "source": [
    "A12 = norm(A9 - exact_128)\n",
    "print(A12)"
   ]
  },
  {
   "cell_type": "code",
   "execution_count": 20,
   "metadata": {},
   "outputs": [],
   "source": [
    "A5 = np.reshape(A5, (128, 1))\n",
    "A9 = np.reshape(A9, (128, 1))"
   ]
  },
  {
   "cell_type": "code",
   "execution_count": 21,
   "metadata": {},
   "outputs": [],
   "source": [
    "Time = 2\n",
    "L = 10\n",
    "n = 256\n",
    "x2 = np.linspace(-L,L,n+1)\n",
    "x = x2[0:n] #periodicity\n",
    "dx = x[1] - x[0]\n",
    "\n",
    "dt = L_star*(dx**2)/2\n",
    "time_steps = int(Time/dt)\n",
    "t = np.arange(0,Time+dt,dt)"
   ]
  },
  {
   "cell_type": "code",
   "execution_count": 22,
   "metadata": {},
   "outputs": [],
   "source": [
    "e1 = np.ones(n)\n",
    "A = scipy.sparse.spdiags([16*e1,-e1,-e1,16*e1,-30*e1,16*e1,-e1,-e1,16*e1],[-n+1,-n+2,-2,-1,0,1,2,n-2,n-1],n,n)\n",
    "A = A/12"
   ]
  },
  {
   "cell_type": "code",
   "execution_count": 23,
   "metadata": {},
   "outputs": [
    {
     "name": "stdout",
     "output_type": "stream",
     "text": [
      "0.014541070458247318\n"
     ]
    }
   ],
   "source": [
    "usol_fe_2 =np.zeros((len(x),len(t)))\n",
    "u0 = 10*np.cos(2*np.pi*x/L)+30*np.cos(8*np.pi*x/L)\n",
    "usol_fe_2[:,0] = u0\n",
    "u1 = u0\n",
    "for j in range(time_steps):\n",
    "    u2 = u1 + L_star*A@u1\n",
    "    u1 = u2\n",
    "    usol_fe_2[:,j+1] = u2\n",
    "\n",
    "sol = usol_fe_2[:, -1]\n",
    "A13 = norm(sol - exact_256)\n",
    "print(A13)"
   ]
  },
  {
   "cell_type": "code",
   "execution_count": 24,
   "metadata": {},
   "outputs": [],
   "source": [
    "e1 = np.ones(n)\n",
    "B = 0.5*scipy.sparse.spdiags([-CFL*e1,-CFL*e1,2*CFL*e1,-CFL*e1,-CFL*e1],[-n+1,-1,0,1,n-1],n,n,format='csc')\n",
    "B = B + scipy.sparse.eye(n)\n",
    "C = 0.5*scipy.sparse.spdiags([CFL*e1,CFL*e1,-2*CFL*e1,CFL*e1,CFL*e1],[-n+1,-1,0,1,n-1],n,n,format='csc')\n",
    "C = C + scipy.sparse.eye(n)"
   ]
  },
  {
   "cell_type": "code",
   "execution_count": 25,
   "metadata": {},
   "outputs": [
    {
     "name": "stdout",
     "output_type": "stream",
     "text": [
      "0.06533503532409668\n"
     ]
    }
   ],
   "source": [
    "PLU = scipy.sparse.linalg.splu(B)\n",
    "usol_cn_3 =np.zeros((len(x),len(t)))\n",
    "u0 = 10*np.cos(2*np.pi*x/L)+30*np.cos(8*np.pi*x/L)\n",
    "usol_cn_3[:,0] = u0\n",
    "start = time.time()\n",
    "for j in range(time_steps):\n",
    "    u1 = PLU.solve(C@u0)\n",
    "    u0=u1\n",
    "    usol_cn_3[:,j+1] = u1\n",
    "\n",
    "end = time.time()\n",
    "print(end-start)\n",
    "sol = usol_cn_3[:, -1]\n",
    "A14 = norm(sol - exact_256)"
   ]
  }
 ],
 "metadata": {
  "kernelspec": {
   "display_name": "Python 3",
   "language": "python",
   "name": "python3"
  },
  "language_info": {
   "codemirror_mode": {
    "name": "ipython",
    "version": 3
   },
   "file_extension": ".py",
   "mimetype": "text/x-python",
   "name": "python",
   "nbconvert_exporter": "python",
   "pygments_lexer": "ipython3",
   "version": "3.8.5"
  }
 },
 "nbformat": 4,
 "nbformat_minor": 4
}
